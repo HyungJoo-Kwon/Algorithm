{
 "metadata": {
  "language_info": {
   "codemirror_mode": {
    "name": "ipython",
    "version": 3
   },
   "file_extension": ".py",
   "mimetype": "text/x-python",
   "name": "python",
   "nbconvert_exporter": "python",
   "pygments_lexer": "ipython3",
   "version": "3.8.3-final"
  },
  "orig_nbformat": 2,
  "kernelspec": {
   "name": "python3",
   "display_name": "Python 3",
   "language": "python"
  }
 },
 "nbformat": 4,
 "nbformat_minor": 2,
 "cells": [
  {
   "source": [
    "### 시간복잡도  \n",
    "![](./imgs/time_complexity.png)     \n",
    "보통 시간 복잡도에서의 연산은 프로그래밍 언어에서 지원하는 사칙 연산, 비교 연산 등과 같은 기본 연산을 의미  \n",
    "   \n"
   ],
   "cell_type": "markdown",
   "metadata": {}
  },
  {
   "cell_type": "code",
   "execution_count": null,
   "metadata": {},
   "outputs": [],
   "source": [
    "### 공간복잡도  \n",
    "# int a[1000] : 4KB   \n",
    "# int a[1000000] : 4MB    \n",
    "# int a[2000][2000] : 16MB "
   ]
  },
  {
   "cell_type": "code",
   "execution_count": 1,
   "metadata": {},
   "outputs": [
    {
     "output_type": "stream",
     "name": "stdout",
     "text": [
      "12\n"
     ]
    }
   ],
   "source": [
    "a = 5\n",
    "b = 7\n",
    "print(a+b)\n",
    "# 더하기 연산 1회로 시간 복잡도 O(1)"
   ]
  },
  {
   "cell_type": "code",
   "execution_count": 2,
   "metadata": {},
   "outputs": [
    {
     "output_type": "stream",
     "name": "stdout",
     "text": [
      "15\n"
     ]
    }
   ],
   "source": [
    "array = [3,5,1,2,4]\n",
    "summary = 0\n",
    "\n",
    "for x in array:\n",
    "    summary += x\n",
    "\n",
    "print(summary)\n",
    "# N = 5, 더하기 연산 5번 -> O(N)"
   ]
  },
  {
   "cell_type": "code",
   "execution_count": null,
   "metadata": {},
   "outputs": [],
   "source": [
    "array = [3,5,1,2,4]\n",
    "\n",
    "for x in array:\n",
    "    for y in array:\n",
    "        temp =  x * y\n",
    "        print(temp)\n",
    "\n",
    "# N = 5 -> O(N^2)"
   ]
  },
  {
   "cell_type": "code",
   "execution_count": null,
   "metadata": {},
   "outputs": [],
   "source": [
    "# 수행 시간 측정 코드\n",
    "import time\n",
    "\n",
    "start_time = time.time()\n",
    "\n",
    "end_time = time.time()\n",
    "print(f'time : {end_time - start_time}')"
   ]
  },
  {
   "cell_type": "code",
   "execution_count": 4,
   "metadata": {},
   "outputs": [
    {
     "output_type": "stream",
     "name": "stdout",
     "text": [
      "선택 정렬 성능 측정: 11.324705600738525\n기본 정렬 라이브러리 성능 측정: 0.0009980201721191406\n"
     ]
    }
   ],
   "source": [
    "# 선택 정렬과 기본 정렬 라이브러리 수행 시간 비교\n",
    "from random import randint\n",
    "import time\n",
    "\n",
    "array = []\n",
    "for _ in range(10000):\n",
    "    array.append(randint(1, 100)) \n",
    "\n",
    "start_time = time.time()\n",
    "\n",
    "for i in range(len(array)):\n",
    "    min_index = i \n",
    "    for j in range(i + 1, len(array)):\n",
    "        if array[min_index] > array[j]:\n",
    "            min_index = j\n",
    "    array[i], array[min_index] = array[min_index], array[i] \n",
    "\n",
    "end_time = time.time() \n",
    "print(\"선택 정렬 성능 측정:\", end_time - start_time) \n",
    "\n",
    "array = []\n",
    "for _ in range(10000):\n",
    "    array.append(randint(1, 100)) \n",
    "\n",
    "start_time = time.time()\n",
    "\n",
    "array.sort()\n",
    "\n",
    "end_time = time.time() \n",
    "print(\"기본 정렬 라이브러리 성능 측정:\", end_time - start_time) "
   ]
  },
  {
   "source": [
    "# 정렬 라이브러리의 시간 복잡도 \n",
    "- 정렬 라이브러리는 항상 최악의 경우에도 시간 복잡도 O(N log N)을 보장\n",
    "- 문제에서 별도의 요구가 없다면 단순히 정렬해야 하는 상황에서는 기본 정렬 라이브러리를 사용하고, 데이터의 범위가 한정되어 있으며 더 빠르게 동작해야 할 때는 계수 정렬을 사용하자    \n",
    "\n",
    "### 정렬 알고리즘이 사용되는 경우\n",
    "- 정렬 라이브러리로 풀 수 있는 문제\n",
    "- 정렬 알고리즘의 원리에 대해 물어보는 문제\n",
    "- 더 빠른 정렬이 필요한 문제"
   ],
   "cell_type": "markdown",
   "metadata": {}
  },
  {
   "cell_type": "code",
   "execution_count": null,
   "metadata": {},
   "outputs": [],
   "source": []
  }
 ]
}