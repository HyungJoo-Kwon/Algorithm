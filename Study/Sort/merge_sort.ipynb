{
 "metadata": {
  "language_info": {
   "codemirror_mode": {
    "name": "ipython",
    "version": 3
   },
   "file_extension": ".py",
   "mimetype": "text/x-python",
   "name": "python",
   "nbconvert_exporter": "python",
   "pygments_lexer": "ipython3",
   "version": 3
  },
  "orig_nbformat": 2
 },
 "nbformat": 4,
 "nbformat_minor": 2,
 "cells": [
  {
   "source": [
    "# 병합 정렬 \n",
    "- 정렬하고 싶은 수열을 두개의 수열(거의 같은 길이)로 분할하고 더 이상 분활되지 않는 상태에 이르면 그룹들을 병합해 나간다. 병합할 때에는 정렬이 끝난 두 개의 수열을 병합해서 정렬이 끝난 하나의 수열로 만드는 것을 전체가 하나가 될 때까지 재귀적으로 반복.    \n",
    "![](./imgs/mergesort1.png)  \n",
    "\n",
    "- 병합 정렬에서 숫자를 분할해 갈 때는 계산 시간이 걸리지 않음(처음부터 분할된 상태라고 생각)    \n",
    "- 하나의 층에서 병합 계산 시간은 그 층에 있는 숫자의 수가 된다.\n",
    "- 시간 복잡도 O(N log N)\n"
   ],
   "cell_type": "markdown",
   "metadata": {}
  },
  {
   "cell_type": "code",
   "execution_count": null,
   "metadata": {},
   "outputs": [],
   "source": []
  }
 ]
}