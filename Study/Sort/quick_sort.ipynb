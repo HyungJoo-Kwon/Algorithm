{
 "metadata": {
  "language_info": {
   "codemirror_mode": {
    "name": "ipython",
    "version": 3
   },
   "file_extension": ".py",
   "mimetype": "text/x-python",
   "name": "python",
   "nbconvert_exporter": "python",
   "pygments_lexer": "ipython3",
   "version": "3.8.5"
  },
  "orig_nbformat": 2,
  "kernelspec": {
   "name": "python3",
   "display_name": "Python 3",
   "language": "python"
  }
 },
 "nbformat": 4,
 "nbformat_minor": 2,
 "cells": [
  {
   "source": [
    "# 퀵 정렬   \n",
    "- 기준(피벗 pivot)을 설정한 다음 큰 수와 작은 수를 교환한 후 리스트를 반으로 나누는 방식으로 동작   \n",
    "- 호어 분할 방식을 기준으로 퀵 정렬은 리스트에서 첫 번째 데이터를 피벗으로 정하고 왼쪽에서 부터 피벗보다 큰 데이터를 찾고, 오른쪽에서부터 피벗보다 작은 데이터를 찾는다. 그 다음 두 데이터를 교환하는 방식  \n",
    "- 왼쪽에서 찾는 데이터와 오른쪽에서 찾는 데이터 위치가 서로 엇갈리면 작은 데이터와 피벗의 위치를 서로 변경  \n",
    "![](./imgs/quicksort1.png)\n",
    "- 시간 복잡도 O(NlogN)  \n",
    "![](./imgs/quicksort2.PNG)\n"
   ],
   "cell_type": "markdown",
   "metadata": {}
  },
  {
   "cell_type": "code",
   "execution_count": 1,
   "metadata": {},
   "outputs": [
    {
     "output_type": "stream",
     "name": "stdout",
     "text": [
      "[0, 1, 2, 3, 4, 5, 6, 7, 8, 9]\n"
     ]
    }
   ],
   "source": [
    "# Python quick sort\n",
    "\n",
    "array = [5, 7, 9, 0, 3, 1, 6, 2, 4, 8]\n",
    "\n",
    "def quick_sort(array, start, end):\n",
    "    if start >= end: # 원소가 1개인 경우 종료\n",
    "        return\n",
    "    pivot = start # 피벗은 첫 번째 원소\n",
    "    left = start + 1\n",
    "    right = end\n",
    "    while(left <= right):\n",
    "        # 피벗보다 큰 데이터를 찾을 때까지 반복 \n",
    "        while(left <= end and array[left] <= array[pivot]):\n",
    "            left += 1\n",
    "        # 피벗보다 작은 데이터를 찾을 때까지 반복\n",
    "        while(right > start and array[right] >= array[pivot]):\n",
    "            right -= 1\n",
    "        if(left > right): # 엇갈렸다면 작은 데이터와 피벗을 교체\n",
    "            array[right], array[pivot] = array[pivot], array[right]\n",
    "        else: # 엇갈리지 않았다면 작은 데이터와 큰 데이터를 교체\n",
    "            array[left], array[right] = array[right], array[left]\n",
    "    # 분할 이후 왼쪽 부분과 오른쪽 부분에서 각각 정렬 수행\n",
    "    quick_sort(array, start, right - 1)\n",
    "    quick_sort(array, right + 1, end)\n",
    "\n",
    "quick_sort(array, 0, len(array) - 1)\n",
    "print(array)"
   ]
  },
  {
   "source": [
    "![](./imgs/quicksort3.png)\n"
   ],
   "cell_type": "markdown",
   "metadata": {}
  },
  {
   "cell_type": "code",
   "execution_count": 2,
   "metadata": {},
   "outputs": [
    {
     "output_type": "stream",
     "name": "stdout",
     "text": [
      "[0, 1, 2, 3, 4, 5, 6, 7, 8, 9]\n"
     ]
    }
   ],
   "source": [
    "# Python short quick sort\n",
    "\n",
    "array = [5, 7, 9, 0, 3, 1, 6, 2, 4, 8]\n",
    "\n",
    "def quick_sort(array):\n",
    "    # 리스트가 하나 이하의 원소만을 담고 있다면 종료\n",
    "    if len(array) <= 1:\n",
    "        return array\n",
    "\n",
    "    pivot = array[0] # 피벗은 첫 번째 원소\n",
    "    tail = array[1:] # 피벗을 제외한 리스트\n",
    "\n",
    "    left_side = [x for x in tail if x <= pivot] # 분할된 왼쪽 부분\n",
    "    right_side = [x for x in tail if x > pivot] # 분할된 오른쪽 부분\n",
    "\n",
    "    # 분할 이후 왼쪽 부분과 오른쪽 부분에서 각각 정렬을 수행하고, 전체 리스트를 반환\n",
    "    return quick_sort(left_side) + [pivot] + quick_sort(right_side)\n",
    "\n",
    "print(quick_sort(array))"
   ]
  },
  {
   "cell_type": "code",
   "execution_count": null,
   "metadata": {},
   "outputs": [],
   "source": [
    "# C++ quick sort\n",
    "\n",
    "#include <bits/stdc++.h>\n",
    "\n",
    "using namespace std;\n",
    "\n",
    "int n = 10;\n",
    "int arr[10] = {7, 5, 9, 0, 3, 1, 6, 2, 4, 8};\n",
    "\n",
    "void quickSort(int* arr, int start, int end) {\n",
    "    if (start >= end) return; // 원소가 1개인 경우 종료\n",
    "    int pivot = start; // 피벗은 첫 번째 원소\n",
    "    int left = start + 1;\n",
    "    int right = end;\n",
    "    while (left <= right) {\n",
    "        // 피벗보다 큰 데이터를 찾을 때까지 반복\n",
    "        while (left <= end && arr[left] <= arr[pivot]) left++;\n",
    "        // 피벗보다 작은 데이터를 찾을 때까지 반복\n",
    "        while (right > start && arr[right] >= arr[pivot]) right--;\n",
    "        // 엇갈렸다면 작은 데이터와 피벗을 교체\n",
    "        if (left > right) swap(arr[pivot], arr[right]);\n",
    "        // 엇갈리지 않았다면 작은 데이터와 큰 데이터를 교체\n",
    "        else swap(arr[left], arr[right]);\n",
    "    }\n",
    "    // 분할 이후 왼쪽 부분과 오른쪽 부분에서 각각 정렬 수행\n",
    "    quickSort(arr, start, right - 1);\n",
    "    quickSort(arr, right + 1, end);\n",
    "}\n",
    "\n",
    "int main(void) {\n",
    "    quickSort(arr, 0, n - 1);\n",
    "    for (int i = 0; i < n; i++) {\n",
    "        cout << arr[i] << ' ';\n",
    "    }\n",
    "}"
   ]
  },
  {
   "cell_type": "code",
   "execution_count": null,
   "metadata": {},
   "outputs": [],
   "source": [
    "# Java quick sort\r\n",
    "\r\n",
    "import java.util.*;\r\n",
    "\r\n",
    "public class Main {\r\n",
    "\r\n",
    "    public static void quickSort(int[] arr, int start, int end) {\r\n",
    "        if (start >= end) return; // 원소가 1개인 경우 종료\r\n",
    "        int pivot = start; // 피벗은 첫 번째 원소\r\n",
    "        int left = start + 1;\r\n",
    "        int right = end;\r\n",
    "        while (left <= right) {\r\n",
    "            // 피벗보다 큰 데이터를 찾을 때까지 반복\r\n",
    "            while (left <= end && arr[left] <= arr[pivot]) left++;\r\n",
    "            // 피벗보다 작은 데이터를 찾을 때까지 반복\r\n",
    "            while (right > start && arr[right] >= arr[pivot]) right--;\r\n",
    "            // 엇갈렸다면 작은 데이터와 피벗을 교체\r\n",
    "            if (left > right) {\r\n",
    "                int temp = arr[pivot];\r\n",
    "                arr[pivot] = arr[right];\r\n",
    "                arr[right] = temp;\r\n",
    "            }\r\n",
    "            // 엇갈리지 않았다면 작은 데이터와 큰 데이터를 교체\r\n",
    "            else {\r\n",
    "                int temp = arr[left];\r\n",
    "                arr[left] = arr[right];\r\n",
    "                arr[right] = temp;\r\n",
    "            }\r\n",
    "        }\r\n",
    "        // 분할 이후 왼쪽 부분과 오른쪽 부분에서 각각 정렬 수행\r\n",
    "        quickSort(arr, start, right - 1);\r\n",
    "        quickSort(arr, right + 1, end);\r\n",
    "    }\r\n",
    "\r\n",
    "    public static void main(String[] args) {\r\n",
    "        int n = 10;\r\n",
    "        int[] arr = {7, 5, 9, 0, 3, 1, 6, 2, 4, 8};\r\n",
    "\r\n",
    "        quickSort(arr, 0, n - 1);\r\n",
    "\r\n",
    "        for(int i = 0; i < n; i++) {\r\n",
    "            System.out.print(arr[i] + \" \");\r\n",
    "        }\r\n",
    "    }\r\n",
    "\r\n",
    "}"
   ]
  }
 ]
}