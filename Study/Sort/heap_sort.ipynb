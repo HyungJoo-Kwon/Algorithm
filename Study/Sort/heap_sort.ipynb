{
 "metadata": {
  "language_info": {
   "codemirror_mode": {
    "name": "ipython",
    "version": 3
   },
   "file_extension": ".py",
   "mimetype": "text/x-python",
   "name": "python",
   "nbconvert_exporter": "python",
   "pygments_lexer": "ipython3",
   "version": "3.8.3-final"
  },
  "orig_nbformat": 2,
  "kernelspec": {
   "name": "python3",
   "display_name": "Python 3.8.3 64-bit (conda)",
   "metadata": {
    "interpreter": {
     "hash": "ccb6990895436216020d785f85e481171ea60264840962e2fdc91afe41f44499"
    }
   }
  }
 },
 "nbformat": 4,
 "nbformat_minor": 2,
 "cells": [
  {
   "source": [
    "# 힙 정렬   \n",
    "- 힙 데이터 구조를 사용하는 것이 특징.\n",
    "![](./imgs/heapsort1.png)   \n",
    "- 힙 정렬의 계산 시간은 전체적으로 O(N log N)\n",
    "- 힙이라는 복잡한 데이터 구조를 구현하는 것이 어려움."
   ],
   "cell_type": "markdown",
   "metadata": {}
  },
  {
   "cell_type": "code",
   "execution_count": null,
   "metadata": {},
   "outputs": [],
   "source": []
  }
 ]
}