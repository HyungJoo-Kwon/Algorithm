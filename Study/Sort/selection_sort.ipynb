{
 "metadata": {
  "language_info": {
   "codemirror_mode": {
    "name": "ipython",
    "version": 3
   },
   "file_extension": ".py",
   "mimetype": "text/x-python",
   "name": "python",
   "nbconvert_exporter": "python",
   "pygments_lexer": "ipython3",
   "version": "3.8.3-final"
  },
  "orig_nbformat": 2,
  "kernelspec": {
   "name": "python3",
   "display_name": "Python 3.8.3 64-bit (conda)",
   "metadata": {
    "interpreter": {
     "hash": "ccb6990895436216020d785f85e481171ea60264840962e2fdc91afe41f44499"
    }
   }
  }
 },
 "nbformat": 4,
 "nbformat_minor": 2,
 "cells": [
  {
   "source": [
    "# 선택 정렬 \n",
    "- 가장 작은 데이터를 선택해 맨 앞에 있는 데이터와 바꾸고, 다음 작은 데이터를 선택해 앞에서 두 번째 데이터와 바꾸는 과정을 반복  \n",
    "- 수열 중에서 최솟값을 검색(선형 탐색)해서 왼쪽 끝에 있는 숫자와 교체하는 작업을 반복.  \n",
    "![](./imgs/selectionsort1.png)"
   ],
   "cell_type": "markdown",
   "metadata": {}
  },
  {
   "cell_type": "code",
   "execution_count": 1,
   "metadata": {},
   "outputs": [
    {
     "output_type": "stream",
     "name": "stdout",
     "text": [
      "[0, 1, 2, 3, 4, 5, 6, 7, 8, 9]\n"
     ]
    }
   ],
   "source": [
    "# Python Selection Sort\n",
    "  \n",
    "array = [7, 5, 9, 0, 3, 1, 6, 2, 4, 8]\n",
    "\n",
    "for i in range(len(array)):\n",
    "    min_index = i # 가장 작은 원소의 인덱스\n",
    "    for j in range(i + 1, len(array)):\n",
    "        if array[min_index] > array[j]:\n",
    "            min_index = j\n",
    "    array[i], array[min_index] = array[min_index], array[i] # SWAP\n",
    "\n",
    "print(array)\n",
    "\n",
    "# 시간 복잡도 O(N^2)"
   ]
  },
  {
   "cell_type": "code",
   "execution_count": null,
   "metadata": {},
   "outputs": [],
   "source": [
    "# SWAP\n",
    "\n",
    "# Python\n",
    "array = [3, 5]\n",
    "array[0], array[1] = array[1], array[0]\n",
    "\n",
    "# C++\n",
    "#include <bits/stdc++.h>\n",
    "using namespace std;\n",
    "\n",
    "int arr[2] = {3, 5};\n",
    "\n",
    "int main(void) {\n",
    "    swap(arr[0], arr[1]);\n",
    "    cout << arr[0] << ' ' << arr[1] << '\\n';\n",
    "}\n",
    "\n",
    "# Java\n",
    "import java.util.*;\n",
    "\n",
    "public class Main {\n",
    "\n",
    "    public static void main(String[] args) {\n",
    "\n",
    "        int[] arr = {3, 5};\n",
    "\n",
    "        // Swap\n",
    "        int temp = arr[0];\n",
    "        arr[0] = arr[1];\n",
    "        arr[1] = temp;\n",
    "\n",
    "        System.out.println(arr[0] + \" \" + arr[1]);\n",
    "    }\n",
    "\n",
    "}"
   ]
  },
  {
   "cell_type": "code",
   "execution_count": null,
   "metadata": {},
   "outputs": [],
   "source": [
    "# C++ Selection Sort\n",
    "\n",
    "#include <bits/stdc++.h>\n",
    "\n",
    "using namespace std;\n",
    "\n",
    "int n = 10;\n",
    "int arr[10] = {7, 5, 9, 0, 3, 1, 6, 2, 4, 8};\n",
    "\n",
    "int main(void) {\n",
    "    for (int i = 0; i < n; i++) {\n",
    "        int min_index = i; \n",
    "        for (int j = i + 1; j < n; j++) {\n",
    "            if (arr[min_index] > arr[j]) {\n",
    "                min_index = j;\n",
    "            }\n",
    "        }\n",
    "        swap(arr[i], arr[min_index]); // SWAP\n",
    "    }\n",
    "    for(int i = 0; i < n; i++) {\n",
    "        cout << arr[i] << ' ';\n",
    "    }\n",
    "}"
   ]
  },
  {
   "cell_type": "code",
   "execution_count": null,
   "metadata": {},
   "outputs": [],
   "source": [
    "# Java Selection Sort\r\n",
    "\r\n",
    "  \r\n",
    "import java.util.*;\r\n",
    "\r\n",
    "public class Main {\r\n",
    "\r\n",
    "    public static void main(String[] args) {\r\n",
    "\r\n",
    "        int n = 10;\r\n",
    "        int[] arr = {7, 5, 9, 0, 3, 1, 6, 2, 4, 8};\r\n",
    "\r\n",
    "        for (int i = 0; i < n; i++) {\r\n",
    "            int min_index = i;\r\n",
    "            for (int j = i + 1; j < n; j++) {\r\n",
    "                if (arr[min_index] > arr[j]) {\r\n",
    "                    min_index = j;\r\n",
    "                }\r\n",
    "            }\r\n",
    "            // SWAP\r\n",
    "            int temp = arr[i];\r\n",
    "            arr[i] = arr[min_index];\r\n",
    "            arr[min_index] = temp;\r\n",
    "        }\r\n",
    "\r\n",
    "        for(int i = 0; i < n; i++) {\r\n",
    "            System.out.print(arr[i] + \" \");\r\n",
    "        }\r\n",
    "    }\r\n",
    "\r\n",
    "}"
   ]
  }
 ]
}