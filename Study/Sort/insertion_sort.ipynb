{
 "metadata": {
  "language_info": {
   "codemirror_mode": {
    "name": "ipython",
    "version": 3
   },
   "file_extension": ".py",
   "mimetype": "text/x-python",
   "name": "python",
   "nbconvert_exporter": "python",
   "pygments_lexer": "ipython3",
   "version": "3.8.3-final"
  },
  "orig_nbformat": 2,
  "kernelspec": {
   "name": "python3",
   "display_name": "Python 3.8.3 64-bit (conda)",
   "metadata": {
    "interpreter": {
     "hash": "ccb6990895436216020d785f85e481171ea60264840962e2fdc91afe41f44499"
    }
   }
  }
 },
 "nbformat": 4,
 "nbformat_minor": 2,
 "cells": [
  {
   "source": [
    "# 삽입 정렬 \n",
    "- 수열의 왼쪽부터 순서대로 정렬하는 방식    \n",
    "- 우측의 미탐색 영역에서 숫자를 하나 꺼내서 정렬이 끝난 영역의 적절한 위치에 삽입해 나가는 방식 \n",
    "![](./imgs/insertionsort1.png)  \n",
    "각 라운드의 첫 숫자를 그 왼쪽에 있는 숫자와 비교.   \n",
    "왼쪽에 있는 숫자가 작다면 비교할 필요 없이 종료하고, 크다면 가장 왼쪽에 도착할 때까지 비교와 교체 작업  \n",
    "시간 복잡도 O(n^2)"
   ],
   "cell_type": "markdown",
   "metadata": {}
  },
  {
   "cell_type": "code",
   "execution_count": 2,
   "metadata": {},
   "outputs": [
    {
     "output_type": "stream",
     "name": "stdout",
     "text": [
      "[0, 1, 2, 3, 4, 5, 6, 7, 8, 9]\n"
     ]
    }
   ],
   "source": [
    "# Python insertion sort\n",
    " \n",
    "array = [7, 5, 9, 0, 3, 1, 6, 2, 4, 8]\n",
    "\n",
    "for i in range(1, len(array)):\n",
    "    for j in range(i, 0, -1): \n",
    "        if array[j] < array[j - 1]: # 한 칸씩 왼쪽으로 이동\n",
    "            array[j], array[j - 1] = array[j - 1], array[j]\n",
    "        else: # 자기보다 작은 데이터를 만나면 그 위치에서 멈춤\n",
    "            break\n",
    "\n",
    "print(array)"
   ]
  },
  {
   "cell_type": "code",
   "execution_count": null,
   "metadata": {},
   "outputs": [],
   "source": [
    "# C++ insertion sort\n",
    "\n",
    "  \n",
    "#include <bits/stdc++.h>\n",
    "\n",
    "using namespace std;\n",
    "\n",
    "int n = 10;\n",
    "int arr[10] = {7, 5, 9, 0, 3, 1, 6, 2, 4, 8};\n",
    "\n",
    "int main(void) {\n",
    "    for (int i = 1; i < n; i++) {\n",
    "        for (int j = i; j > 0; j--) {\n",
    "            // 한 칸씩 왼쪽으로 이동\n",
    "            if (arr[j] < arr[j - 1]) {\n",
    "                swap(arr[j], arr[j - 1]);\n",
    "            }\n",
    "            // 자기보다 작은 데이터를 만나면 그 위치에서 멈춤\n",
    "            else break;\n",
    "        }\n",
    "    }\n",
    "    for(int i = 0; i < n; i++) {\n",
    "        cout << arr[i] << ' ';\n",
    "    }\n",
    "}"
   ]
  },
  {
   "cell_type": "code",
   "execution_count": null,
   "metadata": {},
   "outputs": [],
   "source": [
    "# Java insertion sort\n",
    "\n",
    "import java.util.*;\n",
    "\n",
    "public class Main {\n",
    "\n",
    "    public static void main(String[] args) {\n",
    "\n",
    "        int n = 10;\n",
    "        int[] arr = {7, 5, 9, 0, 3, 1, 6, 2, 4, 8};\n",
    "\n",
    "        for (int i = 1; i < n; i++) {\n",
    "            // 인덱스 i부터 1까지 감소하며 반복하는 문법\n",
    "            for (int j = i; j > 0; j--) {\n",
    "                // 한 칸씩 왼쪽으로 이동\n",
    "                if (arr[j] < arr[j - 1]) {\n",
    "                    // 스와프(Swap)\n",
    "                    int temp = arr[j];\n",
    "                    arr[j] = arr[j - 1];\n",
    "                    arr[j - 1] = temp;\n",
    "                }\n",
    "                // 자기보다 작은 데이터를 만나면 그 위치에서 멈춤\n",
    "                else break;\n",
    "            }\n",
    "        }\n",
    "\n",
    "        for(int i = 0; i < n; i++) {\n",
    "            System.out.print(arr[i] + \" \");\n",
    "        }\n",
    "    }\n",
    "\n",
    "}"
   ]
  }
 ]
}