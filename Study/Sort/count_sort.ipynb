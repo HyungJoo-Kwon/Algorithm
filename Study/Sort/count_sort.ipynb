{
 "metadata": {
  "language_info": {
   "codemirror_mode": {
    "name": "ipython",
    "version": 3
   },
   "file_extension": ".py",
   "mimetype": "text/x-python",
   "name": "python",
   "nbconvert_exporter": "python",
   "pygments_lexer": "ipython3",
   "version": "3.8.3-final"
  },
  "orig_nbformat": 2,
  "kernelspec": {
   "name": "python3",
   "display_name": "Python 3.8.3 64-bit (conda)",
   "metadata": {
    "interpreter": {
     "hash": "ccb6990895436216020d785f85e481171ea60264840962e2fdc91afe41f44499"
    }
   }
  }
 },
 "nbformat": 4,
 "nbformat_minor": 2,
 "cells": [
  {
   "source": [
    "# 계수 정렬 \n",
    "- 특정한 조건이 부합할 때만 사용할 수 있는 매우 빠른 정렬 알고리즘\n",
    "- 모든 데이터가 양수며 개수가 N, 최댓값이 K일때 O(N+K)를 보장\n",
    "- 계수 정렬은 데이터의 크기 범위가 제한되어 정수 형태로 표현할 수 있을 때만 사용 가능\n",
    "- 일반적으로 가장 크고 작은 데이터의 차이가 1,000,000을 넘지 않으면 효과적  \n",
    "![](./imgs/countsort1.png)\n",
    "- 정렬 알고리즘 중에서 기수 정렬(radix sort)과 더불어 가장 빠르다\n",
    "- 보통 기수 정렬은 계수 정렬에 비해 동작은 느리지만, 처리할 수 있는 정수의 크기가 더 크다."
   ],
   "cell_type": "markdown",
   "metadata": {}
  },
  {
   "cell_type": "code",
   "execution_count": 5,
   "metadata": {},
   "outputs": [
    {
     "output_type": "stream",
     "name": "stdout",
     "text": [
      "[2, 2, 2, 1, 1, 2, 1, 1, 1, 2]\n0 0 1 1 2 2 3 4 5 5 6 7 8 9 9 "
     ]
    }
   ],
   "source": [
    "# Python count sort\n",
    "\n",
    "array = [7, 5, 9, 0, 3, 1, 6, 2, 9, 1, 4, 8, 0, 5, 2]\n",
    "# 모든 범위를 포함하는 리스트 선언 (모든 값은 0으로 초기화)\n",
    "count = [0] * (max(array) + 1)\n",
    "\n",
    "for i in range(len(array)):\n",
    "    count[array[i]] += 1 # 각 데이터에 해당하는 인덱스의 값 증가\n",
    "print(count)\n",
    "\n",
    "for i in range(len(count)): # 리스트에 기록된 정렬 정보 확인\n",
    "    for j in range(count[i]):\n",
    "        print(i, end=' ') # 띄어쓰기를 구분으로 등장한 횟수만큼 인덱스 출력"
   ]
  },
  {
   "cell_type": "code",
   "execution_count": null,
   "metadata": {},
   "outputs": [],
   "source": [
    "# C++ count sort\n",
    "\n",
    "#include <bits/stdc++.h>\n",
    "#define MAX_VALUE 9\n",
    "\n",
    "using namespace std;\n",
    "\n",
    "int n = 15;\n",
    "// 모든 원소의 값이 0보다 크거나 같다고 가정\n",
    "int arr[15] = {7, 5, 9, 0, 3, 1, 6, 2, 9, 1, 4, 8, 0, 5, 2};\n",
    "// 모든 범위를 포함하는 배열 선언(모든 값은 0으로 초기화)\n",
    "int cnt[MAX_VALUE + 1];\n",
    "\n",
    "int main(void) {\n",
    "    for (int i = 0; i < n; i++) {\n",
    "        cnt[arr[i]] += 1; // 각 데이터에 해당하는 인덱스의 값 증가\n",
    "    }\n",
    "    for (int i = 0; i <= MAX_VALUE; i++) { // 배열에 기록된 정렬 정보 확인\n",
    "        for (int j = 0; j < cnt[i]; j++) {\n",
    "            cout << i << ' '; // 띄어쓰기를 기준으로 등장한 횟수만큼 인덱스 출력\n",
    "        }\n",
    "    }\n",
    "}"
   ]
  },
  {
   "cell_type": "code",
   "execution_count": null,
   "metadata": {},
   "outputs": [],
   "source": [
    "# Java count sort\n",
    "\n",
    "import java.util.*;\n",
    "\n",
    "public class Main {\n",
    "\t\n",
    "    public static final int MAX_VALUE = 9;\n",
    "\n",
    "    public static void main(String[] args) {\n",
    "    \t\n",
    "        int n = 15;\n",
    "        // 모든 원소의 값이 0보다 크거나 같다고 가정\n",
    "        int[] arr = {7, 5, 9, 0, 3, 1, 6, 2, 9, 1, 4, 8, 0, 5, 2};\n",
    "        // 모든 범위를 포함하는 배열 선언(모든 값은 0으로 초기화)\n",
    "        int[] cnt = new int[MAX_VALUE + 1];\n",
    "\n",
    "        for (int i = 0; i < n; i++) {\n",
    "            cnt[arr[i]] += 1; // 각 데이터에 해당하는 인덱스의 값 증가\n",
    "        }\n",
    "        for (int i = 0; i <= MAX_VALUE; i++) { // 배열에 기록된 정렬 정보 확인\n",
    "            for (int j = 0; j < cnt[i]; j++) {\n",
    "                System.out.print(i + \" \"); // 띄어쓰기를 기준으로 등장한 횟수만큼 인덱스 출력\n",
    "            }\n",
    "        }\n",
    "    }\n",
    "\n",
    "}"
   ]
  }
 ]
}