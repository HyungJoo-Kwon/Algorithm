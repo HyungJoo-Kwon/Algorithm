{
 "metadata": {
  "language_info": {
   "codemirror_mode": {
    "name": "ipython",
    "version": 3
   },
   "file_extension": ".py",
   "mimetype": "text/x-python",
   "name": "python",
   "nbconvert_exporter": "python",
   "pygments_lexer": "ipython3",
   "version": "3.8.5-final"
  },
  "orig_nbformat": 2,
  "kernelspec": {
   "name": "python3",
   "display_name": "Python 3.8.5 64-bit (conda)",
   "metadata": {
    "interpreter": {
     "hash": "83420c7193142ee2cef17181f4059edb1563d89e12e0d285abcc203fee34b153"
    }
   }
  }
 },
 "nbformat": 4,
 "nbformat_minor": 2,
 "cells": [
  {
   "source": [
    "# 그리디 알고리즘 = 탐욕법    \n",
    "현재 상황에서 지금 당장 좋은 것만 고르는 방법   \n",
    "그리디 알고리즘은 기준에 따라 좋은 것을 선택하는 알고리즘이므로 가장 큰 순서대로, 작은 순서대로와 같은 기준이 있고 이 기준은 정렬 알고리즘을 사용하면 만족시킬 수 있다."
   ],
   "cell_type": "markdown",
   "metadata": {}
  },
  {
   "source": [
    "### 3-1 거스름돈\n",
    "### 카운터에는 거스름돈으로 사용할 500원, 100원, 50원, 10원짜리 동전이 무한히 존재한다고 가정. 손님에게 거슬러 줘야 할 돈이 N원일 떄 거슬러 줘야할 동전의 최소 개수를 구하여라. 단, 거슬러 줘야 할 돈 N은 항상 10의 배수이다."
   ],
   "cell_type": "markdown",
   "metadata": {}
  },
  {
   "cell_type": "code",
   "execution_count": 5,
   "metadata": {},
   "outputs": [
    {
     "output_type": "stream",
     "name": "stdout",
     "text": [
      "6\n"
     ]
    }
   ],
   "source": [
    "# Python\n",
    "\n",
    "n = 1260\n",
    "count = 0\n",
    "\n",
    "# 큰 단위의 화폐부터 차례대로 확인하기\n",
    "coin_types = [500, 100, 50, 10]\n",
    "\n",
    "for coin in coin_types:\n",
    "    count += n // coin # 해당 화폐로 거슬러 줄 수 있는 동전의 개수 세기\n",
    "    n %= coin\n",
    "\n",
    "print(count)\n",
    "\n",
    "# //은 몫 연산자\n",
    "# 화폐의 정류가 K개일 때 위 소스의 시간 복잡도는 O(K).\n",
    "# 이 알고리즘에서 시간 복잡도는 동전의 총 종류에만 영향을 받고, 금액의 크기와는 무관"
   ]
  },
  {
   "cell_type": "code",
   "execution_count": null,
   "metadata": {},
   "outputs": [],
   "source": [
    "# C++\n",
    "\n",
    "#include <bits/stdc++.h>\n",
    "\n",
    "using namespace std;\n",
    "\n",
    "int n = 1260;\n",
    "int cnt = 0;\n",
    "int coinTypes[4] = {500, 100, 50, 10};\n",
    "\n",
    "int main() {\n",
    "    for (int i = 0; i < 4; i++) {\n",
    "        int coin = coinTypes[i];\n",
    "        cnt += n / coin;\n",
    "        n %= coin;\n",
    "    }\n",
    "    cout << cnt << '\\n';\n",
    "}"
   ]
  },
  {
   "cell_type": "code",
   "execution_count": null,
   "metadata": {},
   "outputs": [],
   "source": [
    "# Java\n",
    "\n",
    "public class Main {\n",
    "\n",
    "    public static void main(String[] args) {\n",
    "        int n = 1260;\n",
    "        int cnt = 0;\n",
    "        int[] coinTypes = {500, 100, 50, 10};\n",
    "\t\t\n",
    "        for (int i = 0; i < 4; i++) {\n",
    "            int coin = coinTypes[i];\n",
    "            cnt += n / coin;\n",
    "            n %= coin;\n",
    "        }\n",
    "\n",
    "        System.out.println(cnt);\n",
    "    }\n",
    "\n",
    "}"
   ]
  }
 ]
}