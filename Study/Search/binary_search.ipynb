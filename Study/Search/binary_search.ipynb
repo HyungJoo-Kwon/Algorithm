{
 "metadata": {
  "language_info": {
   "codemirror_mode": {
    "name": "ipython",
    "version": 3
   },
   "file_extension": ".py",
   "mimetype": "text/x-python",
   "name": "python",
   "nbconvert_exporter": "python",
   "pygments_lexer": "ipython3",
   "version": "3.8.3-final"
  },
  "orig_nbformat": 2,
  "kernelspec": {
   "name": "python3",
   "display_name": "Python 3.8.3 64-bit (conda)",
   "metadata": {
    "interpreter": {
     "hash": "ccb6990895436216020d785f85e481171ea60264840962e2fdc91afe41f44499"
    }
   }
  }
 },
 "nbformat": 4,
 "nbformat_minor": 2,
 "cells": [
  {
   "source": [
    "# 이진 탐색 \n",
    "- 선형 탐색과 달리 데이터가 정렬된 경우에만 적용 가능\n",
    "- 배열의 가운데 있는 데이터와 대상 데이터를 비교해 대상 데이터가 정중앙보다 오른쪽에 있는지 왼쪽에 있는지 확인 가능\n",
    "- 대상 데이터를 찾거나 존재하지 않는다는 것을 알 때까지 반복\n",
    "- O(log N)"
   ],
   "cell_type": "markdown",
   "metadata": {}
  },
  {
   "source": [
    "# 재귀 함수를 이용한 이진 탐색"
   ],
   "cell_type": "markdown",
   "metadata": {}
  },
  {
   "cell_type": "code",
   "execution_count": 2,
   "metadata": {},
   "outputs": [
    {
     "output_type": "stream",
     "name": "stdout",
     "text": [
      "4\n"
     ]
    }
   ],
   "source": [
    "# Python recursive binary search\n",
    "\n",
    "def binary_search(array, target, start, end):\n",
    "    if start > end:\n",
    "        return None\n",
    "    mid = (start + end) // 2\n",
    "    # 찾은 경우 중간점 인덱스 반환\n",
    "    if array[mid] == target:\n",
    "        return mid\n",
    "    # 중간점의 값보다 찾고자 하는 값이 작은 경우 왼쪽 확인\n",
    "    elif array[mid] > target:\n",
    "        return binary_search(array, target, start, mid - 1)\n",
    "    # 중간점의 값보다 찾고자 하는 값이 큰 경우 오른쪽 확인\n",
    "    else:\n",
    "        return binary_search(array, target, mid + 1, end)\n",
    "\n",
    "# n(원소의 개수)과 target(찾고자 하는 값)을 입력 받기\n",
    "n, target = list(map(int, input().split()))\n",
    "# 전체 원소 입력 받기\n",
    "array = list(map(int, input().split()))\n",
    "\n",
    "# 이진 탐색 수행 결과 출력\n",
    "result = binary_search(array, target, 0, n - 1)\n",
    "if result == None:\n",
    "    print(\"원소가 존재하지 않습니다.\")\n",
    "else:\n",
    "    print(result + 1)"
   ]
  },
  {
   "cell_type": "code",
   "execution_count": null,
   "metadata": {},
   "outputs": [],
   "source": [
    "# C++ recursive binary search\n",
    "\n",
    "#include <bits/stdc++.h>\n",
    "\n",
    "using namespace std;\n",
    "\n",
    "// 이진 탐색 소스코드 구현(재귀 함수)\n",
    "int binarySearch(vector<int>& arr, int target, int start, int end) {\n",
    "    if (start > end) return -1;\n",
    "    int mid = (start + end) / 2;\n",
    "    // 찾은 경우 중간점 인덱스 반환\n",
    "    if (arr[mid] == target) return mid;\n",
    "    // 중간점의 값보다 찾고자 하는 값이 작은 경우 왼쪽 확인\n",
    "    else if (arr[mid] > target) return binarySearch(arr, target, start, mid - 1);\n",
    "    // 중간점의 값보다 찾고자 하는 값이 큰 경우 오른쪽 확인\n",
    "    else return binarySearch(arr, target, mid + 1, end);\n",
    "}"
   ]
  },
  {
   "cell_type": "code",
   "execution_count": null,
   "metadata": {},
   "outputs": [],
   "source": [
    "# Java recursive binary search\n",
    "\n",
    "import java.util.*;\n",
    "\n",
    "public class Main {\n",
    "\n",
    "    // 이진 탐색 소스코드 구현(재귀 함수)\n",
    "    public static int binarySearch(int[] arr, int target, int start, int end) {\n",
    "        if (start > end) return -1;\n",
    "        int mid = (start + end) / 2;\n",
    "        // 찾은 경우 중간점 인덱스 반환\n",
    "        if (arr[mid] == target) return mid;\n",
    "        // 중간점의 값보다 찾고자 하는 값이 작은 경우 왼쪽 확인\n",
    "        else if (arr[mid] > target) return binarySearch(arr, target, start, mid - 1);\n",
    "        // 중간점의 값보다 찾고자 하는 값이 큰 경우 오른쪽 확인\n",
    "        else return binarySearch(arr, target, mid + 1, end);\n",
    "    }"
   ]
  },
  {
   "source": [
    "# 반복문을 이용한 이진 탐색\n"
   ],
   "cell_type": "markdown",
   "metadata": {}
  },
  {
   "cell_type": "code",
   "execution_count": null,
   "metadata": {},
   "outputs": [],
   "source": [
    "# Python loop binary search\n",
    "\n",
    "def binary_search(array, target, start, end):\n",
    "    while start <= end:\n",
    "        mid = (start + end) // 2\n",
    "        # 찾은 경우 중간점 인덱스 반환\n",
    "        if array[mid] == target:\n",
    "            return mid\n",
    "        # 중간점의 값보다 찾고자 하는 값이 작은 경우 왼쪽 확인\n",
    "        elif array[mid] > target:\n",
    "            end = mid - 1\n",
    "        # 중간점의 값보다 찾고자 하는 값이 큰 경우 오른쪽 확인\n",
    "        else:\n",
    "            start = mid + 1\n",
    "    return None\n",
    "\n",
    "# n(원소의 개수)과 target(찾고자 하는 값)을 입력 받기\n",
    "n, target = list(map(int, input().split()))\n",
    "# 전체 원소 입력 받기\n",
    "array = list(map(int, input().split()))\n",
    "\n",
    "# 이진 탐색 수행 결과 출력\n",
    "result = binary_search(array, target, 0, n - 1)\n",
    "if result == None:\n",
    "    print(\"원소가 존재하지 않습니다.\")\n",
    "else:\n",
    "    print(result + 1)"
   ]
  },
  {
   "cell_type": "code",
   "execution_count": null,
   "metadata": {},
   "outputs": [],
   "source": [
    "# C++ loop binary search\n",
    "\n",
    "#include <bits/stdc++.h>\n",
    "\n",
    "using namespace std;\n",
    "\n",
    "// 이진 탐색 소스코드 구현(반복문)\n",
    "int binarySearch(vector<int>& arr, int target, int start, int end) {\n",
    "    while (start <= end) {\n",
    "        int mid = (start + end) / 2;\n",
    "        // 찾은 경우 중간점 인덱스 반환\n",
    "        if (arr[mid] == target) return mid;\n",
    "        // 중간점의 값보다 찾고자 하는 값이 작은 경우 왼쪽 확인\n",
    "        else if (arr[mid] > target) end = mid - 1;\n",
    "        // 중간점의 값보다 찾고자 하는 값이 큰 경우 오른쪽 확인\n",
    "        else start = mid + 1; \n",
    "    }\n",
    "    return -1;\n",
    "}"
   ]
  },
  {
   "cell_type": "code",
   "execution_count": null,
   "metadata": {},
   "outputs": [],
   "source": [
    "# Java loop binary search\n",
    "\n",
    "import java.util.*;\n",
    "\n",
    "public class Main {\n",
    "\n",
    "    // 이진 탐색 소스코드 구현(반복문)\n",
    "    public static int binarySearch(int[] arr, int target, int start, int end) {\n",
    "        while (start <= end) {\n",
    "            int mid = (start + end) / 2;\n",
    "            // 찾은 경우 중간점 인덱스 반환\n",
    "            if (arr[mid] == target) return mid;\n",
    "            // 중간점의 값보다 찾고자 하는 값이 작은 경우 왼쪽 확인\n",
    "            else if (arr[mid] > target) end = mid - 1;\n",
    "            // 중간점의 값보다 찾고자 하는 값이 큰 경우 오른쪽 확인\n",
    "            else start = mid + 1; \n",
    "        }\n",
    "        return -1;\n",
    "    }"
   ]
  }
 ]
}