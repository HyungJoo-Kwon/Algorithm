{
 "metadata": {
  "language_info": {
   "codemirror_mode": {
    "name": "ipython",
    "version": 3
   },
   "file_extension": ".py",
   "mimetype": "text/x-python",
   "name": "python",
   "nbconvert_exporter": "python",
   "pygments_lexer": "ipython3",
   "version": "3.8.3-final"
  },
  "orig_nbformat": 2,
  "kernelspec": {
   "name": "python3",
   "display_name": "Python 3.8.3 64-bit (conda)",
   "metadata": {
    "interpreter": {
     "hash": "ccb6990895436216020d785f85e481171ea60264840962e2fdc91afe41f44499"
    }
   }
  }
 },
 "nbformat": 4,
 "nbformat_minor": 2,
 "cells": [
  {
   "source": [
    "# 선형 탐색 \n",
    "- 배열에서 데이터를 탐색하는 알고리즘\n",
    "- 단순히 배열의 앞에서부터 순서대로 데이터를 확인.\n",
    "- 데이터 수가 많고 대상 데이터가 배열 뒤에 있는 경우, 또는 대상 데이터가 존재하지 않는 경우에는 비교 횟수가 많아져서 시간이 걸린다.\n",
    "- 데이터 수를 n이라고 하면 O(n)"
   ],
   "cell_type": "markdown",
   "metadata": {}
  },
  {
   "cell_type": "code",
   "execution_count": 2,
   "metadata": {},
   "outputs": [
    {
     "output_type": "stream",
     "name": "stdout",
     "text": [
      "생성할 원소 개수를 입력한 다음 한 칸 띄고 찾을 문자열을 입력하세요.\n",
      "앞서 적은 원소 개수만큼 문자열을 입력하세요. 구분은 띄어쓰기 한 칸으로 합니다.\n",
      "3\n"
     ]
    }
   ],
   "source": [
    "# Python sequential search\n",
    "\n",
    "def sequential_search(n, target, array):\n",
    "    # 각 원소를 하나씩 확인하며\n",
    "    for i in range(n):\n",
    "        # 현재의 원소가 찾고자 하는 원소와 동일한 경우\n",
    "        if array[i] == target:\n",
    "            return i + 1 # 현재의 위치 반환\n",
    "    return -1 \n",
    "\n",
    "print(\"생성할 원소 개수를 입력한 다음 한 칸 띄고 찾을 문자열을 입력하세요.\")\n",
    "input_data = input().split()\n",
    "n = int(input_data[0]) # 원소의 개수\n",
    "target = input_data[1] # 찾고자 하는 문자열\n",
    "\n",
    "print(\"앞서 적은 원소 개수만큼 문자열을 입력하세요. 구분은 띄어쓰기 한 칸으로 합니다.\")  \n",
    "array = input().split()\n",
    "\n",
    "# 순차 탐색 수행 결과 출력\n",
    "print(sequential_search(n, target, array))"
   ]
  },
  {
   "cell_type": "code",
   "execution_count": null,
   "metadata": {},
   "outputs": [],
   "source": [
    "# C++ sequential search\n",
    "\n",
    "#include <bits/stdc++.h>\n",
    "\n",
    "using namespace std;\n",
    "\n",
    "// 순차 탐색 소스코드 구현\n",
    "int sequantialSearch(int n, string target, vector<string> arr) {\n",
    "    // 각 원소를 하나씩 확인하며\n",
    "    for (int i = 0; i < n; i++) {\n",
    "        // 현재의 원소가 찾고자 하는 원소와 동일한 경우\n",
    "        if (arr[i] == target) {\n",
    "            return i + 1; \n",
    "        }\n",
    "    }\n",
    "    return -1; \n",
    "}"
   ]
  },
  {
   "cell_type": "code",
   "execution_count": null,
   "metadata": {},
   "outputs": [],
   "source": [
    "# Java sequential search\n",
    "  \n",
    "import java.util.*;\n",
    "\n",
    "public class Main {\n",
    "\n",
    "    // 순차 탐색 소스코드 구현\n",
    "    public static int sequantialSearch(int n, String target, String[] arr) {\n",
    "        // 각 원소를 하나씩 확인하며\n",
    "        for (int i = 0; i < n; i++) {\n",
    "        \tSystem.out.println(arr[i]);\n",
    "            // 현재의 원소가 찾고자 하는 원소와 동일한 경우\n",
    "            if (arr[i].equals(target)) {\n",
    "                return i + 1; // 현재의 위치 반환 (인덱스는 0부터 시작하므로 1 더하기)\n",
    "            }\n",
    "        }\n",
    "        return -1; // 원소를 찾지 못한 경우 -1 반환\n",
    "    }\n",
    "\n",
    "    public static void main(String[] args) {\n",
    "        Scanner sc = new Scanner(System.in);\n",
    "        \n",
    "        System.out.println(\"생성할 원소 개수를 입력한 다음 한 칸 띄고 찾을 문자열을 입력하세요.\");\n",
    "        // 원소의 개수\n",
    "        int n = sc.nextInt();\n",
    "        // 찾고자 하는 문자열\n",
    "        String target = sc.next();\n",
    "\n",
    "        System.out.println(\"앞서 적은 원소 개수만큼 문자열을 입력하세요. 구분은 띄어쓰기 한 칸으로 합니다.\");\n",
    "        String[] arr = new String[n];\n",
    "        for (int i = 0; i < n; i++) {\n",
    "            arr[i] = sc.next();\n",
    "        }\n",
    "\n",
    "        // 순차 탐색 수행 결과 출력\n",
    "        System.out.println(sequantialSearch(n, target, arr));\n",
    "    }\n",
    "\n",
    "}"
   ]
  }
 ]
}